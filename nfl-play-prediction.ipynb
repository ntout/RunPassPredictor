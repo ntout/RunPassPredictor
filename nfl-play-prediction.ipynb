{
 "cells": [
  {
   "cell_type": "code",
   "execution_count": 343,
   "id": "1363d53d",
   "metadata": {},
   "outputs": [],
   "source": [
    "# Set up\n",
    "import os\n",
    "import numpy as np\n",
    "import pandas as pd\n",
    "import sklearn\n",
    "from sklearn.model_selection import train_test_split\n",
    "from sklearn.datasets import load_iris\n",
    "\n",
    "%matplotlib inline\n",
    "import matplotlib as mlp\n",
    "import matplotlib.pyplot as plt\n",
    "mlp.rc('axes', labelsize=14)\n",
    "mlp.rc('xtick', labelsize=12)\n",
    "mlp.rc('ytick', labelsize=12)"
   ]
  },
  {
   "cell_type": "markdown",
   "id": "9247fa1e",
   "metadata": {},
   "source": [
    "## Problem \n",
    "### Can I Predict whether the next NFL play wil be a run or a pass?"
   ]
  },
  {
   "cell_type": "markdown",
   "id": "c45c10d6",
   "metadata": {},
   "source": [
    "## Pre-Processing data\n",
    " ### Data collection\n",
    "    Data was collection from FTNData.com's NFL api.\n",
    "    I wrote a script to make an api call for each nfl game between 2017 and 2020.\n",
    "    I then flattened the data and got rid of unecesary data.\n",
    "    I got personnel data from sharpfootballstats.com\n",
    " ### Processing\n",
    "    There was alot of weather data missing so I decided to just get rid of all the weather details\n",
    "    Other columns with null values were for post play data so I dropped those.\n",
    "    To add the personnel groupings, I created a list, for both run and pass, the size of my dataset with\n",
    "    the correct proportions of personnel values.\n",
    "    I then split the main data into pass and run, and added the corresponding shuffled lists into a new column."
   ]
  },
  {
   "cell_type": "markdown",
   "id": "7a20e17c",
   "metadata": {},
   "source": [
    "## Model Selection\n",
    "    I went with RandomForestClassifier\n",
    "    At first it was giving a perfect accuracy score so I knew it was not right\n",
    "    I tweaked the n_estimators and max_depth to help with over fitting "
   ]
  },
  {
   "cell_type": "markdown",
   "id": "75aef2f9",
   "metadata": {},
   "source": [
    "## Results\n",
    "    The model performed much better than anticipated.  \n",
    "    I was expecting it to be closer to .50 because pretty much all the data was a 50/50 to 55/45\n",
    "    split between pass/run.\n",
    "    Having more data on the players and formations would help with the accuracy."
   ]
  },
  {
   "cell_type": "code",
   "execution_count": 344,
   "id": "e52e029e",
   "metadata": {},
   "outputs": [],
   "source": [
    "# Read in personnel csv\n",
    "import csv\n",
    "\n",
    "filename = os.path.join(\"datasets\", \"nfl-pp-data\", \"personnel.csv\")\n",
    "\n",
    "d = {}\n",
    "\n",
    "# reading csv file\n",
    "with open(filename, 'r') as csvfile:\n",
    "    # creating a csv reader object\n",
    "    csvreader = csv.reader(csvfile)\n",
    " \n",
    "    # extracting each data row one by one\n",
    "    for row in csvreader:\n",
    "        d[row[0]] = row[1:]\n",
    "        "
   ]
  },
  {
   "cell_type": "code",
   "execution_count": 345,
   "id": "57253b70",
   "metadata": {},
   "outputs": [],
   "source": [
    "# make list of personnels\n",
    "import random\n",
    "\n",
    "pass_list = []\n",
    "index = 0\n",
    "for p in d['rpass']:\n",
    "    for i in range(int(p)):\n",
    "        pass_list.append(d['personnel'][index])\n",
    "    index += 1\n",
    "\n",
    "run_list = []\n",
    "index = 0\n",
    "for p in d['nrun']:\n",
    "    for i in range(int(p)):\n",
    "        run_list.append(d['personnel'][index])\n",
    "    index += 1\n",
    "        \n",
    "random.shuffle(pass_list)\n",
    "random.shuffle(run_list)"
   ]
  },
  {
   "cell_type": "markdown",
   "id": "cb126a48",
   "metadata": {},
   "source": [
    "#### Post play\n",
    "- player, loc, type\n",
    "\n",
    "#### Not relevent\n",
    "- day, timo, timd, wk, len, fd, min, sec, gid, stad, cond, surf\n",
    "\n",
    "#### Missing data\n",
    "- temp, humd, wspd, wdir"
   ]
  },
  {
   "cell_type": "code",
   "execution_count": 346,
   "id": "5ee95bb8",
   "metadata": {
    "scrolled": false
   },
   "outputs": [
    {
     "name": "stderr",
     "output_type": "stream",
     "text": [
      "C:\\Users\\Nathan\\AppData\\Local\\Temp/ipykernel_23988/1895778316.py:20: SettingWithCopyWarning: \n",
      "A value is trying to be set on a copy of a slice from a DataFrame.\n",
      "Try using .loc[row_indexer,col_indexer] = value instead\n",
      "\n",
      "See the caveats in the documentation: https://pandas.pydata.org/pandas-docs/stable/user_guide/indexing.html#returning-a-view-versus-a-copy\n",
      "  pas['prnl'] = pass_list\n",
      "C:\\Users\\Nathan\\AppData\\Local\\Temp/ipykernel_23988/1895778316.py:21: SettingWithCopyWarning: \n",
      "A value is trying to be set on a copy of a slice from a DataFrame.\n",
      "Try using .loc[row_indexer,col_indexer] = value instead\n",
      "\n",
      "See the caveats in the documentation: https://pandas.pydata.org/pandas-docs/stable/user_guide/indexing.html#returning-a-view-versus-a-copy\n",
      "  run['prnl'] = run_list\n"
     ]
    }
   ],
   "source": [
    "# Load Data (include reference to where you found your data)\n",
    "datapath = os.path.join(\"datasets\", \"nfl-pp-data\", \"\")\n",
    "plays_all = pd.read_csv(datapath + \"sea_pbp_v2.csv\", thousands=',')\n",
    "\n",
    "plays_all['score_diff'] = plays_all['ptso'] - plays_all['ptsd']\n",
    "plays_all.drop([\"off\",\"nh\",\"dseq\",\"ptso\",\"ptsd\",\"v\",\"h\",\"temp\", \"humd\", \"wspd\", \"wdir\", \"day\", \"wk\", \"timo\", \"timd\", \"len\", \"fd\", \"min\", \"sec\", \"gid\", \"stad\", \"cond\", \"surf\"],\n",
    "              axis=1, inplace=True)\n",
    "\n",
    "# Set index to play ID\n",
    "plays_all.set_index(\"pid\", inplace=True)\n",
    "\n",
    "plays_all.replace(to_replace =[\"PASS\"], value=1, inplace=True)\n",
    "plays_all.replace(to_replace =[\"RUSH\"], value=0, inplace=True)\n",
    "\n",
    "# add personnell data\n",
    "pas = plays_all.loc[plays_all['type'] == 1]\n",
    "run = plays_all.loc[plays_all['type'] == 0]\n",
    "\n",
    "pas['prnl'] = pass_list\n",
    "run['prnl'] = run_list\n",
    "\n",
    "tempplays = pd.concat([run, pas], axis=0)\n",
    "plays_all['prnl'] = tempplays['prnl']\n",
    "# plays_all['num_wr'] = np.nan\n",
    "\n",
    "\n",
    "plays_all.loc[plays_all['prnl'] == '1_1', 'num_wr'] = 3 \n",
    "plays_all.loc[plays_all['prnl'] == '1_2', 'num_wr'] = 2 \n",
    "plays_all.loc[plays_all['prnl'] == '2_1', 'num_wr'] = 2 \n",
    "plays_all.loc[plays_all['prnl'] == '2_2', 'num_wr'] = 1\n",
    "plays_all.loc[plays_all['prnl'] == '1_3', 'num_wr'] = 1 \n",
    "plays_all.loc[plays_all['prnl'] == '1_0', 'num_wr'] = 4\n",
    "plays_all.loc[plays_all['prnl'] == '2_0', 'num_wr'] = 3\n",
    "plays_all.loc[plays_all['prnl'] == '2_3', 'num_wr'] = 0\n",
    "plays_all.loc[plays_all['prnl'] == '0_1', 'num_wr'] = 4 \n",
    "plays_all.loc[plays_all['prnl'] == '0_0', 'num_wr'] = 5 \n",
    "plays_all.loc[plays_all['prnl'] == '1_4', 'num_wr'] = 0\n",
    "plays_all.loc[plays_all['prnl'] == '0_2', 'num_wr'] = 2 \n",
    "\n",
    "# Data For each season\n",
    "plays_2017 = plays_all.loc[plays_all['seas'] == 2017]\n",
    "plays_2018 = plays_all.loc[plays_all['seas'] == 2018]\n",
    "plays_2019 = plays_all.loc[plays_all['seas'] == 2019]\n",
    "plays_2020 = plays_all.loc[plays_all['seas'] == 2020]\n"
   ]
  },
  {
   "cell_type": "code",
   "execution_count": 347,
   "id": "1a938124",
   "metadata": {
    "scrolled": true
   },
   "outputs": [
    {
     "data": {
      "text/html": [
       "<div>\n",
       "<style scoped>\n",
       "    .dataframe tbody tr th:only-of-type {\n",
       "        vertical-align: middle;\n",
       "    }\n",
       "\n",
       "    .dataframe tbody tr th {\n",
       "        vertical-align: top;\n",
       "    }\n",
       "\n",
       "    .dataframe thead th {\n",
       "        text-align: right;\n",
       "    }\n",
       "</style>\n",
       "<table border=\"1\" class=\"dataframe\">\n",
       "  <thead>\n",
       "    <tr style=\"text-align: right;\">\n",
       "      <th></th>\n",
       "      <th>def</th>\n",
       "      <th>type</th>\n",
       "      <th>qtr</th>\n",
       "      <th>secl</th>\n",
       "      <th>dwn</th>\n",
       "      <th>ytg</th>\n",
       "      <th>yfog</th>\n",
       "      <th>zone</th>\n",
       "      <th>sg</th>\n",
       "      <th>player</th>\n",
       "      <th>loc</th>\n",
       "      <th>seas</th>\n",
       "      <th>score_diff</th>\n",
       "      <th>prnl</th>\n",
       "      <th>num_wr</th>\n",
       "    </tr>\n",
       "    <tr>\n",
       "      <th>pid</th>\n",
       "      <th></th>\n",
       "      <th></th>\n",
       "      <th></th>\n",
       "      <th></th>\n",
       "      <th></th>\n",
       "      <th></th>\n",
       "      <th></th>\n",
       "      <th></th>\n",
       "      <th></th>\n",
       "      <th></th>\n",
       "      <th></th>\n",
       "      <th></th>\n",
       "      <th></th>\n",
       "      <th></th>\n",
       "      <th></th>\n",
       "    </tr>\n",
       "  </thead>\n",
       "  <tbody>\n",
       "    <tr>\n",
       "      <th>743383</th>\n",
       "      <td>GB</td>\n",
       "      <td>1</td>\n",
       "      <td>1</td>\n",
       "      <td>3593</td>\n",
       "      <td>1</td>\n",
       "      <td>10</td>\n",
       "      <td>39</td>\n",
       "      <td>2</td>\n",
       "      <td>1</td>\n",
       "      <td>JG-2900</td>\n",
       "      <td>SL</td>\n",
       "      <td>2017</td>\n",
       "      <td>0</td>\n",
       "      <td>1_1</td>\n",
       "      <td>3.0</td>\n",
       "    </tr>\n",
       "    <tr>\n",
       "      <th>743384</th>\n",
       "      <td>GB</td>\n",
       "      <td>0</td>\n",
       "      <td>1</td>\n",
       "      <td>3588</td>\n",
       "      <td>2</td>\n",
       "      <td>10</td>\n",
       "      <td>39</td>\n",
       "      <td>2</td>\n",
       "      <td>0</td>\n",
       "      <td>DB-0500</td>\n",
       "      <td>RE</td>\n",
       "      <td>2017</td>\n",
       "      <td>0</td>\n",
       "      <td>1_1</td>\n",
       "      <td>3.0</td>\n",
       "    </tr>\n",
       "    <tr>\n",
       "      <th>743385</th>\n",
       "      <td>GB</td>\n",
       "      <td>1</td>\n",
       "      <td>1</td>\n",
       "      <td>3552</td>\n",
       "      <td>3</td>\n",
       "      <td>13</td>\n",
       "      <td>36</td>\n",
       "      <td>2</td>\n",
       "      <td>1</td>\n",
       "      <td>NaN</td>\n",
       "      <td>NaN</td>\n",
       "      <td>2017</td>\n",
       "      <td>0</td>\n",
       "      <td>1_1</td>\n",
       "      <td>3.0</td>\n",
       "    </tr>\n",
       "    <tr>\n",
       "      <th>743396</th>\n",
       "      <td>GB</td>\n",
       "      <td>0</td>\n",
       "      <td>1</td>\n",
       "      <td>3266</td>\n",
       "      <td>1</td>\n",
       "      <td>10</td>\n",
       "      <td>50</td>\n",
       "      <td>3</td>\n",
       "      <td>0</td>\n",
       "      <td>EL-0010</td>\n",
       "      <td>LE</td>\n",
       "      <td>2017</td>\n",
       "      <td>0</td>\n",
       "      <td>2_0</td>\n",
       "      <td>3.0</td>\n",
       "    </tr>\n",
       "    <tr>\n",
       "      <th>743397</th>\n",
       "      <td>GB</td>\n",
       "      <td>0</td>\n",
       "      <td>1</td>\n",
       "      <td>3232</td>\n",
       "      <td>2</td>\n",
       "      <td>8</td>\n",
       "      <td>52</td>\n",
       "      <td>3</td>\n",
       "      <td>1</td>\n",
       "      <td>EL-0010</td>\n",
       "      <td>MD</td>\n",
       "      <td>2017</td>\n",
       "      <td>0</td>\n",
       "      <td>1_1</td>\n",
       "      <td>3.0</td>\n",
       "    </tr>\n",
       "  </tbody>\n",
       "</table>\n",
       "</div>"
      ],
      "text/plain": [
       "       def  type  qtr  secl  dwn  ytg  yfog  zone  sg   player  loc  seas  \\\n",
       "pid                                                                         \n",
       "743383  GB     1    1  3593    1   10    39     2   1  JG-2900   SL  2017   \n",
       "743384  GB     0    1  3588    2   10    39     2   0  DB-0500   RE  2017   \n",
       "743385  GB     1    1  3552    3   13    36     2   1      NaN  NaN  2017   \n",
       "743396  GB     0    1  3266    1   10    50     3   0  EL-0010   LE  2017   \n",
       "743397  GB     0    1  3232    2    8    52     3   1  EL-0010   MD  2017   \n",
       "\n",
       "        score_diff prnl  num_wr  \n",
       "pid                              \n",
       "743383           0  1_1     3.0  \n",
       "743384           0  1_1     3.0  \n",
       "743385           0  1_1     3.0  \n",
       "743396           0  2_0     3.0  \n",
       "743397           0  1_1     3.0  "
      ]
     },
     "execution_count": 347,
     "metadata": {},
     "output_type": "execute_result"
    }
   ],
   "source": [
    "plays_all.head()"
   ]
  },
  {
   "cell_type": "code",
   "execution_count": 348,
   "id": "2be898e2",
   "metadata": {},
   "outputs": [
    {
     "name": "stdout",
     "output_type": "stream",
     "text": [
      "<class 'pandas.core.frame.DataFrame'>\n",
      "Int64Index: 4313 entries, 743383 to 915799\n",
      "Data columns (total 15 columns):\n",
      " #   Column      Non-Null Count  Dtype  \n",
      "---  ------      --------------  -----  \n",
      " 0   def         4313 non-null   object \n",
      " 1   type        4313 non-null   int64  \n",
      " 2   qtr         4313 non-null   int64  \n",
      " 3   secl        4313 non-null   int64  \n",
      " 4   dwn         4313 non-null   int64  \n",
      " 5   ytg         4313 non-null   int64  \n",
      " 6   yfog        4313 non-null   int64  \n",
      " 7   zone        4313 non-null   int64  \n",
      " 8   sg          4313 non-null   int64  \n",
      " 9   player      4091 non-null   object \n",
      " 10  loc         4202 non-null   object \n",
      " 11  seas        4313 non-null   int64  \n",
      " 12  score_diff  4313 non-null   int64  \n",
      " 13  prnl        4313 non-null   object \n",
      " 14  num_wr      4313 non-null   float64\n",
      "dtypes: float64(1), int64(10), object(4)\n",
      "memory usage: 539.1+ KB\n"
     ]
    }
   ],
   "source": [
    "plays_all.info()"
   ]
  },
  {
   "cell_type": "code",
   "execution_count": 349,
   "id": "8e0b37f5",
   "metadata": {},
   "outputs": [],
   "source": [
    "# Fill all pass plays with most common reciever and pass loc\n",
    "# Fill all run plays with most common rusher and run loc\n",
    "def filldata(df):\n",
    "    r = df.loc[plays_all['type'] == 'RUSH']\n",
    "    r.fillna(r.mode().iloc[0], inplace=True)\n",
    "    \n",
    "    p = df.loc[plays_all['type'] == 'PASS']\n",
    "    p.fillna(p.mode().iloc[0], inplace=True)\n",
    "    return p.append(r)\n",
    "    \n",
    "    "
   ]
  },
  {
   "cell_type": "code",
   "execution_count": 350,
   "id": "59417c82",
   "metadata": {},
   "outputs": [
    {
     "data": {
      "image/png": "[encoded data removed]",
      "text/plain": [
       "<Figure size 432x288 with 1 Axes>"
      ]
     },
     "metadata": {},
     "output_type": "display_data"
    }
   ],
   "source": [
    "play_counts = plays_all[\"type\"].value_counts()\n",
    "plt.title(\"Play Type: 2017-20\", fontsize = 20)\n",
    "plt.pie(play_counts.array, labels = play_counts.index,\n",
    "    autopct = \"%.2f\", startangle = 90)\n",
    "plt.show()"
   ]
  },
  {
   "cell_type": "code",
   "execution_count": 351,
   "id": "ffb404e8",
   "metadata": {},
   "outputs": [
    {
     "data": {
      "image/png": "[encoded data removed]",
      "text/plain": [
       "<Figure size 432x288 with 1 Axes>"
      ]
     },
     "metadata": {},
     "output_type": "display_data"
    },
    {
     "name": "stdout",
     "output_type": "stream",
     "text": [
      "1    644\n",
      "0    217\n",
      "Name: type, dtype: int64\n"
     ]
    }
   ],
   "source": [
    "play_counts = plays_all['type'].loc[plays_all[\"dwn\"] == 3].value_counts()\n",
    "plt.title(\"Third Down\", fontsize = 20)\n",
    "plt.pie(play_counts.array, labels = play_counts.index,\n",
    "    autopct = \"%.2f\", startangle = 90)\n",
    "plt.show()\n",
    "print(play_counts)"
   ]
  },
  {
   "cell_type": "code",
   "execution_count": 352,
   "id": "3df6a330",
   "metadata": {},
   "outputs": [
    {
     "data": {
      "image/png": "[encoded data removed]",
      "text/plain": [
       "<Figure size 432x288 with 1 Axes>"
      ]
     },
     "metadata": {},
     "output_type": "display_data"
    }
   ],
   "source": [
    "play_counts = plays_all['type'].loc[plays_all[\"num_wr\"] == 3].value_counts()\n",
    "plt.title(\"Play Type: 3 WR\", fontsize = 20)\n",
    "plt.pie(play_counts.array, labels = play_counts.index,\n",
    "    autopct = \"%.2f\", startangle = 90)\n",
    "plt.show()"
   ]
  },
  {
   "cell_type": "code",
   "execution_count": 353,
   "id": "3a532a30",
   "metadata": {},
   "outputs": [
    {
     "data": {
      "image/png": "[encoded data removed]",
      "text/plain": [
       "<Figure size 432x288 with 1 Axes>"
      ]
     },
     "metadata": {},
     "output_type": "display_data"
    },
    {
     "name": "stdout",
     "output_type": "stream",
     "text": [
      "1    1864\n",
      "0    1014\n",
      "Name: type, dtype: int64\n"
     ]
    }
   ],
   "source": [
    "play_counts = plays_all['type'].loc[plays_all[\"sg\"] == 1].value_counts()\n",
    "plt.title(\"Shot gun\", fontsize = 20)\n",
    "plt.pie(play_counts.array, labels = play_counts.index,\n",
    "    autopct = \"%.2f\", startangle = 90)\n",
    "plt.show()\n",
    "print(play_counts)"
   ]
  },
  {
   "cell_type": "code",
   "execution_count": 354,
   "id": "aeedc95d",
   "metadata": {},
   "outputs": [
    {
     "data": {
      "image/png": "[encoded data removed]",
      "text/plain": [
       "<Figure size 432x288 with 1 Axes>"
      ]
     },
     "metadata": {
      "needs_background": "light"
     },
     "output_type": "display_data"
    }
   ],
   "source": [
    "plt.title(\"Play Type / Down Hist\", fontsize = 20)\n",
    "plt.hist(\n",
    "    [plays_all[\"dwn\"].where(plays_all[\"type\"] == 1),\n",
    "     plays_all[\"dwn\"].where(plays_all[\"type\"] == 0)],\n",
    "    label=[\"Pass\", \"Rush\"], stacked=True, bins=4)\n",
    "plt.legend()\n",
    "plt.show()"
   ]
  },
  {
   "cell_type": "code",
   "execution_count": 355,
   "id": "d92f8a43",
   "metadata": {},
   "outputs": [
    {
     "data": {
      "image/png": "[encoded data removed]",
      "text/plain": [
       "<Figure size 432x288 with 1 Axes>"
      ]
     },
     "metadata": {
      "needs_background": "light"
     },
     "output_type": "display_data"
    }
   ],
   "source": [
    "plt.title(\"Play Type / Time Left Hist\", fontsize = 20)\n",
    "plt.hist(\n",
    "    [plays_all[\"secl\"].where(plays_all[\"type\"] == 1),\n",
    "     plays_all[\"secl\"].where(plays_all[\"type\"] == 0)],\n",
    "    label=[\"Pass\", \"Rush\"], stacked=True, bins=300)\n",
    "plt.legend()\n",
    "plt.show()"
   ]
  },
  {
   "cell_type": "code",
   "execution_count": 356,
   "id": "bf27871d",
   "metadata": {},
   "outputs": [],
   "source": [
    "plays = plays_all\n",
    "\n",
    "y=plays[\"type\"]\n",
    "x=plays.drop(['type','player', 'loc'], axis=1)\n"
   ]
  },
  {
   "cell_type": "code",
   "execution_count": 357,
   "id": "27aa2162",
   "metadata": {},
   "outputs": [
    {
     "data": {
      "text/html": [
       "<div>\n",
       "<style scoped>\n",
       "    .dataframe tbody tr th:only-of-type {\n",
       "        vertical-align: middle;\n",
       "    }\n",
       "\n",
       "    .dataframe tbody tr th {\n",
       "        vertical-align: top;\n",
       "    }\n",
       "\n",
       "    .dataframe thead th {\n",
       "        text-align: right;\n",
       "    }\n",
       "</style>\n",
       "<table border=\"1\" class=\"dataframe\">\n",
       "  <thead>\n",
       "    <tr style=\"text-align: right;\">\n",
       "      <th></th>\n",
       "      <th>def</th>\n",
       "      <th>qtr</th>\n",
       "      <th>secl</th>\n",
       "      <th>dwn</th>\n",
       "      <th>ytg</th>\n",
       "      <th>yfog</th>\n",
       "      <th>zone</th>\n",
       "      <th>sg</th>\n",
       "      <th>seas</th>\n",
       "      <th>score_diff</th>\n",
       "      <th>prnl</th>\n",
       "      <th>num_wr</th>\n",
       "    </tr>\n",
       "    <tr>\n",
       "      <th>pid</th>\n",
       "      <th></th>\n",
       "      <th></th>\n",
       "      <th></th>\n",
       "      <th></th>\n",
       "      <th></th>\n",
       "      <th></th>\n",
       "      <th></th>\n",
       "      <th></th>\n",
       "      <th></th>\n",
       "      <th></th>\n",
       "      <th></th>\n",
       "      <th></th>\n",
       "    </tr>\n",
       "  </thead>\n",
       "  <tbody>\n",
       "    <tr>\n",
       "      <th>878398</th>\n",
       "      <td>NE</td>\n",
       "      <td>4</td>\n",
       "      <td>459</td>\n",
       "      <td>1</td>\n",
       "      <td>10</td>\n",
       "      <td>47</td>\n",
       "      <td>3</td>\n",
       "      <td>1</td>\n",
       "      <td>2020</td>\n",
       "      <td>5</td>\n",
       "      <td>1_1</td>\n",
       "      <td>3.0</td>\n",
       "    </tr>\n",
       "    <tr>\n",
       "      <th>868254</th>\n",
       "      <td>ARI</td>\n",
       "      <td>2</td>\n",
       "      <td>2002</td>\n",
       "      <td>2</td>\n",
       "      <td>10</td>\n",
       "      <td>18</td>\n",
       "      <td>1</td>\n",
       "      <td>0</td>\n",
       "      <td>2019</td>\n",
       "      <td>-7</td>\n",
       "      <td>1_2</td>\n",
       "      <td>2.0</td>\n",
       "    </tr>\n",
       "    <tr>\n",
       "      <th>853633</th>\n",
       "      <td>SF</td>\n",
       "      <td>4</td>\n",
       "      <td>276</td>\n",
       "      <td>1</td>\n",
       "      <td>10</td>\n",
       "      <td>36</td>\n",
       "      <td>2</td>\n",
       "      <td>0</td>\n",
       "      <td>2019</td>\n",
       "      <td>0</td>\n",
       "      <td>1_1</td>\n",
       "      <td>3.0</td>\n",
       "    </tr>\n",
       "    <tr>\n",
       "      <th>753668</th>\n",
       "      <td>LA</td>\n",
       "      <td>2</td>\n",
       "      <td>2566</td>\n",
       "      <td>3</td>\n",
       "      <td>7</td>\n",
       "      <td>29</td>\n",
       "      <td>2</td>\n",
       "      <td>1</td>\n",
       "      <td>2017</td>\n",
       "      <td>-7</td>\n",
       "      <td>1_1</td>\n",
       "      <td>3.0</td>\n",
       "    </tr>\n",
       "    <tr>\n",
       "      <th>758679</th>\n",
       "      <td>NYG</td>\n",
       "      <td>3</td>\n",
       "      <td>1519</td>\n",
       "      <td>3</td>\n",
       "      <td>7</td>\n",
       "      <td>53</td>\n",
       "      <td>3</td>\n",
       "      <td>1</td>\n",
       "      <td>2017</td>\n",
       "      <td>-4</td>\n",
       "      <td>1_1</td>\n",
       "      <td>3.0</td>\n",
       "    </tr>\n",
       "  </tbody>\n",
       "</table>\n",
       "</div>"
      ],
      "text/plain": [
       "        def  qtr  secl  dwn  ytg  yfog  zone  sg  seas  score_diff prnl  \\\n",
       "pid                                                                       \n",
       "878398   NE    4   459    1   10    47     3   1  2020           5  1_1   \n",
       "868254  ARI    2  2002    2   10    18     1   0  2019          -7  1_2   \n",
       "853633   SF    4   276    1   10    36     2   0  2019           0  1_1   \n",
       "753668   LA    2  2566    3    7    29     2   1  2017          -7  1_1   \n",
       "758679  NYG    3  1519    3    7    53     3   1  2017          -4  1_1   \n",
       "\n",
       "        num_wr  \n",
       "pid             \n",
       "878398     3.0  \n",
       "868254     2.0  \n",
       "853633     3.0  \n",
       "753668     3.0  \n",
       "758679     3.0  "
      ]
     },
     "execution_count": 357,
     "metadata": {},
     "output_type": "execute_result"
    }
   ],
   "source": [
    "# split the data into train and test (80% train, 20% test)\n",
    "# All plays between 2017-20, random train/test\n",
    "x_train, x_test, y_train, y_test=train_test_split(x,y,test_size=0.20)\n",
    "x_train.head()"
   ]
  },
  {
   "cell_type": "code",
   "execution_count": 358,
   "id": "6c38a16f",
   "metadata": {},
   "outputs": [
    {
     "data": {
      "text/plain": [
       "pid\n",
       "878398    1\n",
       "868254    0\n",
       "853633    1\n",
       "753668    1\n",
       "758679    1\n",
       "Name: type, dtype: int64"
      ]
     },
     "execution_count": 358,
     "metadata": {},
     "output_type": "execute_result"
    }
   ],
   "source": [
    "y_train.head()"
   ]
  },
  {
   "cell_type": "code",
   "execution_count": 359,
   "id": "d57c1ad9",
   "metadata": {},
   "outputs": [],
   "source": [
    "\n",
    "#### Categorical\n",
    "cat_list = [\"def\", \"qtr\", \"seas\", \"sg\", \"dwn\", \"prnl\"]\n",
    "\n",
    "#### Numerical\n",
    "num_list = [\"secl\", \"ytg\", \"yfog\", \"score_diff\", \"num_wr\"]"
   ]
  },
  {
   "cell_type": "code",
   "execution_count": 360,
   "id": "70af1140",
   "metadata": {},
   "outputs": [],
   "source": [
    "from sklearn.impute import SimpleImputer\n",
    "from sklearn.preprocessing import StandardScaler\n",
    "from sklearn.preprocessing import OneHotEncoder\n",
    "from sklearn.pipeline import Pipeline \n",
    "from sklearn.compose import ColumnTransformer \n",
    "\n",
    "# set up and run pre-processing pipeline\n",
    "num_pipeline = Pipeline([\n",
    "        (\"imputer\", SimpleImputer(strategy=\"mean\")),\n",
    "        (\"scaler\", StandardScaler())\n",
    "    ])\n",
    "\n",
    "cat_pipeline = Pipeline([\n",
    "        (\"imputer\", SimpleImputer(strategy=\"most_frequent\")),\n",
    "        (\"cat_encoder\", OneHotEncoder(sparse=True)),\n",
    "    ])\n",
    "\n",
    "full_pipeline = ColumnTransformer([\n",
    "        (\"num\", num_pipeline, num_list),\n",
    "        (\"cat\", cat_pipeline, cat_list),\n",
    "    ])\n",
    "\n",
    "# fit the pipeline to the training data\n",
    "full_pipeline.fit(x_train)\n",
    "\n",
    "# transform training and testing data\n",
    "x_train = full_pipeline.transform(x_train)\n",
    "x_test = full_pipeline.transform(x_test)"
   ]
  },
  {
   "cell_type": "code",
   "execution_count": 361,
   "id": "30d87d02",
   "metadata": {},
   "outputs": [],
   "source": [
    "from sklearn.model_selection import cross_val_score\n",
    "from sklearn.metrics import confusion_matrix, precision_score, recall_score\n",
    "from sklearn.metrics import roc_auc_score"
   ]
  },
  {
   "cell_type": "code",
   "execution_count": 362,
   "id": "15555cb5",
   "metadata": {},
   "outputs": [
    {
     "name": "stdout",
     "output_type": "stream",
     "text": [
      "[0.61413673 0.67091541 0.63805104 0.70069606]\n",
      "[[1021  525]\n",
      " [ 570 1334]]\n",
      "0.7175901022054868\n",
      "0.7006302521008403\n",
      "0.6805221118201485\n"
     ]
    }
   ],
   "source": [
    "# Train Linear model\n",
    "from sklearn.linear_model import SGDClassifier\n",
    "\n",
    "sgd = SGDClassifier(random_state=42)\n",
    "sgd.fit(x_train, y_train)\n",
    "\n",
    "print(cross_val_score(sgd, x_train, y_train, cv=4, scoring=\"accuracy\"))\n",
    "train_pred = sgd.predict(x_train)\n",
    "print(confusion_matrix(y_train, train_pred))\n",
    "\n",
    "print(precision_score(y_train, train_pred,pos_label=1))\n",
    "print(recall_score(y_train, train_pred, pos_label=1))\n",
    "\n",
    "print(roc_auc_score(y_train, train_pred))"
   ]
  },
  {
   "cell_type": "code",
   "execution_count": 363,
   "id": "096a1787",
   "metadata": {},
   "outputs": [
    {
     "name": "stdout",
     "output_type": "stream",
     "text": [
      "Cross validation\n",
      "[0.69710145 0.69130435 0.71014493 0.69130435 0.6942029 ]\n",
      "Confusion matrix\n",
      "[[1279  267]\n",
      " [  69 1835]]\n",
      "Precision / Recall\n",
      "0.8729781160799239\n",
      "0.9637605042016807\n",
      "ROC AUC SCORE\n",
      "0.8955283762923021\n"
     ]
    }
   ],
   "source": [
    "# RandomForestClassifier\n",
    "\n",
    "from sklearn.ensemble import RandomForestClassifier\n",
    "import pickle\n",
    "\n",
    "forest = RandomForestClassifier(n_estimators=1250, max_depth=15, random_state=42)\n",
    "forest.fit(x_train, y_train)\n",
    "\n",
    "# Save model\n",
    "filename = 'finalized_model.sav'\n",
    "pickle.dump(forest, open(filename, 'wb'))\n",
    "\n",
    "print(\"Cross validation\")\n",
    "print(cross_val_score(forest, x_train, y_train, cv=5, scoring=\"accuracy\"))\n",
    "\n",
    "print(\"Confusion matrix\")\n",
    "train_pred = forest.predict(x_train)\n",
    "print(confusion_matrix(y_train, train_pred))\n",
    "\n",
    "print(\"Precision / Recall\")\n",
    "print(precision_score(y_train, train_pred, pos_label=1))\n",
    "print(recall_score(y_train, train_pred, pos_label=1))\n",
    "\n",
    "print(\"ROC AUC SCORE\")\n",
    "print(roc_auc_score(y_train, train_pred))"
   ]
  },
  {
   "cell_type": "code",
   "execution_count": 364,
   "id": "b4f94ec0",
   "metadata": {},
   "outputs": [],
   "source": [
    "# load the model from disk\n",
    "loaded_model = pickle.load(open(filename, 'rb'))\n",
    "test_pred = loaded_model.predict(x_test)"
   ]
  },
  {
   "cell_type": "code",
   "execution_count": 365,
   "id": "a35a2a1c",
   "metadata": {},
   "outputs": [
    {
     "name": "stdout",
     "output_type": "stream",
     "text": [
      "Confusion matrix\n",
      "[[228 160]\n",
      " [ 96 379]]\n",
      "Precision / Recall\n",
      "0.7031539888682746\n",
      "0.7978947368421052\n",
      "ROC AUC SCORE\n",
      "0.6927618014107433\n"
     ]
    }
   ],
   "source": [
    "print(\"Confusion matrix\")\n",
    "print(confusion_matrix(y_test, test_pred))\n",
    "\n",
    "print(\"Precision / Recall\")\n",
    "print(precision_score(y_test, test_pred, pos_label=1))\n",
    "print(recall_score(y_test, test_pred, pos_label=1))\n",
    "print(\"ROC AUC SCORE\")\n",
    "print(roc_auc_score(y_test, test_pred))"
   ]
  },
  {
   "cell_type": "code",
   "execution_count": 366,
   "id": "d0173016",
   "metadata": {},
   "outputs": [],
   "source": [
    "actual = y_test.values.tolist()"
   ]
  },
  {
   "cell_type": "code",
   "execution_count": 367,
   "id": "212dfdad",
   "metadata": {},
   "outputs": [],
   "source": [
    "add = 0\n",
    "count = 0"
   ]
  },
  {
   "cell_type": "code",
   "execution_count": 368,
   "id": "ecb0d239",
   "metadata": {},
   "outputs": [
    {
     "name": "stdout",
     "output_type": "stream",
     "text": [
      "0.7033603707995365\n"
     ]
    }
   ],
   "source": [
    "for i in range(0, len(test_pred)):\n",
    "    if test_pred[i] == actual[i]:\n",
    "        add += 1\n",
    "    count += 1\n",
    "    \n",
    "print(add/count)\n",
    "\n",
    "add = 0\n",
    "count = 0"
   ]
  },
  {
   "cell_type": "code",
   "execution_count": null,
   "id": "58ece0d3",
   "metadata": {},
   "outputs": [],
   "source": []
  }
 ],
 "metadata": {
  "kernelspec": {
   "display_name": "Python 3 (ipykernel)",
   "language": "python",
   "name": "python3"
  },
  "language_info": {
   "codemirror_mode": {
    "name": "ipython",
    "version": 3
   },
   "file_extension": ".py",
   "mimetype": "text/x-python",
   "name": "python",
   "nbconvert_exporter": "python",
   "pygments_lexer": "ipython3",
   "version": "3.10.1"
  }
 },
 "nbformat": 4,
 "nbformat_minor": 5
}
